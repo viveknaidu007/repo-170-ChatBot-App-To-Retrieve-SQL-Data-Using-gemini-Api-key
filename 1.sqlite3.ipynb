{
 "cells": [
  {
   "cell_type": "code",
   "execution_count": 1,
   "metadata": {},
   "outputs": [
    {
     "name": "stdout",
     "output_type": "stream",
     "text": [
      "Student database:\n",
      "('Vivek', 'GenAI', 'A', 90)\n",
      "('Teja', 'Web dev', 'B', 100)\n",
      "('Honey', 'Data Science', 'A', 86)\n",
      "('Anand', 'Content Creation', 'A', 89)\n",
      "('prakash', 'Data Science', 'A', 65)\n",
      "('pawan', 'Automation Testing', 'B', 55)\n",
      "('Kalyan', 'Web dev', 'B', 50)\n"
     ]
    }
   ],
   "source": [
    "import sqlite3\n",
    "\n",
    "# create a variable for connection\n",
    "connection = sqlite3.connect(\"students.db\")\n",
    "\n",
    "# create a cursor object to insert records and a create table\n",
    "cursor = connection.cursor()\n",
    "\n",
    "# create a table\n",
    "table_info = \"\"\"\n",
    "Create table STUDENT(NAME VARCHAR(25),CLASS VARCHAR(25),\n",
    "SECTION VARCHAR(25),MARKS INT);\n",
    "\"\"\"\n",
    "\n",
    "# execute the table\n",
    "cursor.execute(table_info)\n",
    "\n",
    "# insert records\n",
    "cursor.execute('''Insert Into STUDENT values('Vivek','GenAI','A',90)''')\n",
    "cursor.execute('''Insert Into STUDENT values('Teja','Web dev','B',100)''')\n",
    "cursor.execute('''Insert Into STUDENT values('Honey','Data Science','A',86)''')\n",
    "cursor.execute('''Insert Into STUDENT values('Anand','Content Creation','A',89)''')\n",
    "cursor.execute('''Insert Into STUDENT values('prakash','Data Science','A',65)''')\n",
    "cursor.execute('''Insert Into STUDENT values('pawan','Automation Testing','B',55)''')\n",
    "cursor.execute('''Insert Into STUDENT values('Kalyan','Web dev','B',50)''')\n",
    "\n",
    "# query to cisplay all the records\n",
    "data = cursor.execute(\"SELECT * FROM STUDENT\")\n",
    "\n",
    "# display all the records in terminal\n",
    "print(\"Student database:\")\n",
    "for student in data:\n",
    "    print(student)\n",
    "\n",
    "# commit the changes\n",
    "connection.commit()\n",
    "# close the connection\n",
    "connection.close()"
   ]
  }
 ],
 "metadata": {
  "kernelspec": {
   "display_name": "video",
   "language": "python",
   "name": "python3"
  },
  "language_info": {
   "codemirror_mode": {
    "name": "ipython",
    "version": 3
   },
   "file_extension": ".py",
   "mimetype": "text/x-python",
   "name": "python",
   "nbconvert_exporter": "python",
   "pygments_lexer": "ipython3",
   "version": "3.10.14"
  }
 },
 "nbformat": 4,
 "nbformat_minor": 2
}
